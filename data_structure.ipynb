{
 "cells": [
  {
   "cell_type": "markdown",
   "metadata": {},
   "source": [
    "# Data Structures in Python\n",
    "\n",
    "Python provides several built-in data structures that allow you to store and manipulate data efficiently. Here are some commonly used data structures in Python:\n",
    "\n",
    "## Lists\n",
    "\n",
    "Lists are ordered, mutable collections of elements. They can contain elements of different data types and can be modified after creation.\n",
    "\n",
    "\n"
   ]
  },
  {
   "cell_type": "code",
   "execution_count": null,
   "metadata": {},
   "outputs": [],
   "source": []
  }
 ],
 "metadata": {
  "language_info": {
   "name": "python"
  }
 },
 "nbformat": 4,
 "nbformat_minor": 2
}
